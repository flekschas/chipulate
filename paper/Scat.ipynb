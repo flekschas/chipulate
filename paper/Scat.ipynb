{
 "cells": [
  {
   "cell_type": "code",
   "execution_count": 3,
   "metadata": {},
   "outputs": [
    {
     "name": "stdout",
     "output_type": "stream",
     "text": [
      "Using matplotlib backend: TkAgg\n"
     ]
    }
   ],
   "source": [
    "import pandas as pd\n",
    "import matplotlib\n",
    "matplotlib.rcParams['svg.fonttype'] = 'none'\n",
    "from matplotlib import colors as mplcolors\n",
    "import scipy\n",
    "import numpy as np\n",
    "#import util\n",
    "import matplotlib.pyplot as plt\n",
    "import matplotlib as mpl\n",
    "from matplotlib import cm\n",
    "import chip_scratch as cs\n",
    "import MotifTable\n",
    "#import sklearn.metrics\n",
    "#import plots\n",
    "import distributions\n",
    "%matplotlib\n",
    "%load_ext autoreload\n",
    "%autoreload 2\n",
    "\n",
    "def getPaperFigureHandle( paperFigStr ):\n",
    "    if plt.fignum_exists( paperFigStr ):\n",
    "        return paperFigures[paperFigStr]\n",
    "    else:\n",
    "        return createFigure( paperFigStr )\n",
    "\n",
    "paperFigures = {}\n",
    "def createFigure( paperFigStr ):\n",
    "    global paperFigures\n",
    "    if paperFigStr == 'Figure 3':\n",
    "        paperFigures[paperFigStr] = plt.subplots( nrows=2,ncols=3, num='Figure 3' )\n",
    "    elif paperFigStr == 'Figure 4':\n",
    "        paperFigures[paperFigStr] = plt.subplots( nrows=2,ncols=3, num='Figure 4' )\n",
    "    elif paperFigStr == 'Figure 5':\n",
    "        paperFigures[paperFigStr] = plt.subplots( nrows=2,ncols=3, num='Figure 5' )        \n",
    "    elif paperFigStr == 'Figure 2':\n",
    "        paperFigures[paperFigStr] = plt.subplots( nrows=2, ncols=3, num='Figure 2' )\n",
    "    elif paperFigStr == 'Figure S2':\n",
    "        paperFigures[paperFigStr] = plt.subplots( nrows=2, ncols=3, num='Figure S2' )\n",
    "    elif paperFigStr == 'Figure MI':\n",
    "        paperFigures[paperFigStr] = plt.subplots( nrows=1, ncols=2, num='Figure MI' )\n",
    "    elif paperFigStr == 'Figure S1':\n",
    "        paperFigures[paperFigStr] = plt.subplots( nrows=4, ncols=4, num='Figure S1', sharey=True )        \n",
    "    elif paperFigStr == 'Figure 1':\n",
    "        paperFigures[paperFigStr] = plt.subplots( nrows=3, ncols=2, num='Figure 1', sharex=True )\n",
    "        \n",
    "    for ax in paperFigures[paperFigStr][1].ravel():\n",
    "        ax.spines['right'].set_visible(False)\n",
    "        ax.spines['top'].set_visible(False)\n",
    "        \n",
    "    return paperFigures[paperFigStr]\n",
    "\n",
    "yeastBg = [3.093e-01,1.907e-01,1.907e-01,3.093e-01] \n",
    "cbcolors = {'sky blue': (86/255.0,180/255.0,233/255.0)}"
   ]
  }
 ],
 "metadata": {
  "kernelspec": {
   "display_name": "Python 3",
   "language": "python",
   "name": "python3"
  },
  "language_info": {
   "codemirror_mode": {
    "name": "ipython",
    "version": 3
   },
   "file_extension": ".py",
   "mimetype": "text/x-python",
   "name": "python",
   "nbconvert_exporter": "python",
   "pygments_lexer": "ipython3",
   "version": "3.5.2"
  }
 },
 "nbformat": 4,
 "nbformat_minor": 2
}
