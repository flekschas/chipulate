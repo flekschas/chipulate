{
 "cells": [
  {
   "cell_type": "code",
   "execution_count": 50,
   "metadata": {},
   "outputs": [
    {
     "name": "stdout",
     "output_type": "stream",
     "text": [
      "Using matplotlib backend: TkAgg\n",
      "The autoreload extension is already loaded. To reload it, use:\n",
      "  %reload_ext autoreload\n",
      "The line_profiler extension is already loaded. To reload it, use:\n",
      "  %reload_ext line_profiler\n"
     ]
    }
   ],
   "source": [
    "import pandas as pd\n",
    "import matplotlib\n",
    "matplotlib.use('Agg')\n",
    "matplotlib.rcParams['svg.fonttype'] = 'none'\n",
    "from matplotlib import colors as mplcolors\n",
    "import scipy\n",
    "import numpy as np\n",
    "#import util\n",
    "import matplotlib.pyplot as plt\n",
    "import matplotlib as mpl\n",
    "from matplotlib import cm\n",
    "import chip_scratch as cs\n",
    "%matplotlib\n",
    "%load_ext autoreload\n",
    "%autoreload 2\n",
    "%load_ext line_profiler\n",
    "import tqdm"
   ]
  },
  {
   "cell_type": "markdown",
   "metadata": {},
   "source": [
    "# Run simulator"
   ]
  },
  {
   "cell_type": "code",
   "execution_count": 6,
   "metadata": {},
   "outputs": [],
   "source": [
    "numLocations = 300\n",
    "accessibility = cs.sampleAccessibility( 1, numSamples=numLocations )\n",
    "accessibility.sort()\n",
    "accessibility = accessibility[::-1]\n",
    "pExt = 1"
   ]
  },
  {
   "cell_type": "code",
   "execution_count": 3,
   "metadata": {},
   "outputs": [],
   "source": [
    "#readsByCell = 50\n",
    "numCells = 3000\n",
    "readsByCell = 10 + 390 * np.random.random( size=numCells )\n",
    "readsByCell = readsByCell.astype(np.uint)"
   ]
  },
  {
   "cell_type": "code",
   "execution_count": 8,
   "metadata": {},
   "outputs": [
    {
     "name": "stderr",
     "output_type": "stream",
     "text": [
      "UsageError: Could not find function 'ChipSeq.ChipSeq'.\n",
      "NameError: name 'ChipSeq' is not defined\n"
     ]
    }
   ],
   "source": [
    "#uniqueMat is a matrix of dimension (# cells x # locations)\n",
    "%lprun -f ChipSeq.ChipSeq cs.performChipSeq( chromAccessibility=accessibility, numCells=numCells, ampRatio=500, pExt=pExt, nReads=readsByCell )"
   ]
  },
  {
   "cell_type": "markdown",
   "metadata": {},
   "source": [
    "# Plot posterior distributions of sc-ATAC read count data"
   ]
  },
  {
   "cell_type": "code",
   "execution_count": 29,
   "metadata": {},
   "outputs": [
    {
     "data": {
      "text/plain": [
       "Text(0, 0.5, 'Estimated occupancy')"
      ]
     },
     "execution_count": 29,
     "metadata": {},
     "output_type": "execute_result"
    }
   ],
   "source": [
    "plt.figure()\n",
    "effAccessibility = accessibility * pExt\n",
    "posteriorDist = 'gamma-sc'\n",
    "intervals, medians = cs.posteriorEstimate( uniqueMat, [5.5,2], posteriorDist=posteriorDist )\n",
    "\n",
    "errorbars = np.zeros((2,numLocations))\n",
    "errorbars[0,:] = intervals[1] - medians\n",
    "errorbars[1,:] = medians - intervals[0]\n",
    "plt.errorbar( effAccessibility, medians, yerr=errorbars, marker='.', ms=3, lw=1, linestyle='none' )\n",
    "if posteriorDist in 'beta':\n",
    "    plt.plot( effAccessibility, effAccessibility, color='black' )\n",
    "ax = plt.gca()\n",
    "ax.set_xlabel('Actual occupancy')\n",
    "ax.set_title(posteriorDist)\n",
    "ax.set_ylabel('Estimated occupancy')"
   ]
  },
  {
   "cell_type": "code",
   "execution_count": 62,
   "metadata": {},
   "outputs": [
    {
     "data": {
      "application/vnd.jupyter.widget-view+json": {
       "model_id": "89c140877e0e470494922d1120301f12",
       "version_major": 2,
       "version_minor": 0
      },
      "text/plain": [
       "HBox(children=(IntProgress(value=0, max=10000), HTML(value='')))"
      ]
     },
     "metadata": {},
     "output_type": "display_data"
    },
    {
     "name": "stdout",
     "output_type": "stream",
     "text": [
      "\n"
     ]
    }
   ],
   "source": [
    "popn = [20,205,5000,6000]\n",
    "for i in tqdm.tnrange(10000):\n",
    "    #samp1.append( cs.ChipSeq.hyperGeomSample( popn, 10 )[0] )\n",
    "    cs.ChipSeq.hyperGeomSample2( popn, 10 )\n"
   ]
  },
  {
   "cell_type": "code",
   "execution_count": 49,
   "metadata": {},
   "outputs": [
    {
     "data": {
      "text/plain": [
       "RanksumsResult(statistic=0.054324376950265, pvalue=0.95667672822853)"
      ]
     },
     "execution_count": 49,
     "metadata": {},
     "output_type": "execute_result"
    }
   ],
   "source": [
    "scipy.stats.ranksums( samp1, samp2 )"
   ]
  },
  {
   "cell_type": "code",
   "execution_count": 43,
   "metadata": {},
   "outputs": [],
   "source": [
    "?plt.hist"
   ]
  }
 ],
 "metadata": {
  "kernelspec": {
   "display_name": "Python 3",
   "language": "python",
   "name": "python3"
  },
  "language_info": {
   "codemirror_mode": {
    "name": "ipython",
    "version": 3
   },
   "file_extension": ".py",
   "mimetype": "text/x-python",
   "name": "python",
   "nbconvert_exporter": "python",
   "pygments_lexer": "ipython3",
   "version": "3.5.2"
  }
 },
 "nbformat": 4,
 "nbformat_minor": 2
}
