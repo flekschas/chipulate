{
 "cells": [
  {
   "cell_type": "code",
   "execution_count": 1,
   "metadata": {},
   "outputs": [
    {
     "name": "stdout",
     "output_type": "stream",
     "text": [
      "Using matplotlib backend: TkAgg\n"
     ]
    }
   ],
   "source": [
    "import pandas as pd\n",
    "import matplotlib\n",
    "matplotlib.use('Agg')\n",
    "matplotlib.rcParams['svg.fonttype'] = 'none'\n",
    "from matplotlib import colors as mplcolors\n",
    "import scipy\n",
    "import numpy as np\n",
    "#import util\n",
    "import matplotlib.pyplot as plt\n",
    "import matplotlib as mpl\n",
    "from matplotlib import cm\n",
    "import chip_scratch as cs\n",
    "%matplotlib\n",
    "%load_ext autoreload\n",
    "%autoreload 2"
   ]
  },
  {
   "cell_type": "code",
   "execution_count": 62,
   "metadata": {},
   "outputs": [],
   "source": [
    "numLocations = 300\n",
    "accessibility = cs.sampleAccessibility( 10, numSamples=numLocations )\n",
    "accessibility.sort()\n",
    "accessibility = accessibility[::-1]\n",
    "#accessibility = scipy.stats.beta.rvs( 0.5, 2, size=numLocations )\n",
    "pExt = 1"
   ]
  },
  {
   "cell_type": "code",
   "execution_count": 17,
   "metadata": {},
   "outputs": [],
   "source": [
    "#readsByCell = 50\n",
    "numCells = 3000\n",
    "readsByCell = 10 + 390 * np.random.random( size=numCells )\n",
    "readsByCell = readsByCell.astype(np.uint)"
   ]
  },
  {
   "cell_type": "code",
   "execution_count": 64,
   "metadata": {},
   "outputs": [],
   "source": [
    "uniqueMat = cs.performChipSeq( chromAccessibility=accessibility, numCells=numCells, ampRatio=500, pExt=pExt, nReads=readsByCell )"
   ]
  },
  {
   "cell_type": "code",
   "execution_count": 29,
   "metadata": {},
   "outputs": [
    {
     "data": {
      "text/plain": [
       "Text(0, 0.5, 'Estimated occupancy')"
      ]
     },
     "execution_count": 29,
     "metadata": {},
     "output_type": "execute_result"
    }
   ],
   "source": [
    "plt.figure()\n",
    "effAccessibility = accessibility * pExt\n",
    "posteriorDist = 'gamma-sc'\n",
    "intervals, medians = cs.posteriorEstimate( uniqueMat, [5.5,2], posteriorDist=posteriorDist )\n",
    "\n",
    "errorbars = np.zeros((2,numLocations))\n",
    "errorbars[0,:] = intervals[1] - medians\n",
    "errorbars[1,:] = medians - intervals[0]\n",
    "plt.errorbar( effAccessibility, medians, yerr=errorbars, marker='.', ms=3, lw=1, linestyle='none' )\n",
    "if posteriorDist in 'beta':\n",
    "    plt.plot( effAccessibility, effAccessibility, color='black' )\n",
    "ax = plt.gca()\n",
    "ax.set_xlabel('Actual occupancy')\n",
    "ax.set_title(posteriorDist)\n",
    "ax.set_ylabel('Estimated occupancy')"
   ]
  },
  {
   "cell_type": "code",
   "execution_count": 66,
   "metadata": {},
   "outputs": [
    {
     "data": {
      "text/plain": [
       "array([0.30119421, 0.26359714])"
      ]
     },
     "execution_count": 66,
     "metadata": {},
     "output_type": "execute_result"
    }
   ],
   "source": [
    "accessibility[[70,90]]"
   ]
  },
  {
   "cell_type": "code",
   "execution_count": 69,
   "metadata": {},
   "outputs": [
    {
     "data": {
      "text/plain": [
       "(0.06284418786552902, 0.000572989231973922)"
      ]
     },
     "execution_count": 69,
     "metadata": {},
     "output_type": "execute_result"
    }
   ],
   "source": [
    "scipy.stats.pearsonr( uniqueMat[:,70], uniqueMat[:,3] )"
   ]
  },
  {
   "cell_type": "code",
   "execution_count": 63,
   "metadata": {},
   "outputs": [
    {
     "data": {
      "text/plain": [
       "<matplotlib.axes._subplots.AxesSubplot at 0x7fc3e1fb3240>"
      ]
     },
     "execution_count": 63,
     "metadata": {},
     "output_type": "execute_result"
    }
   ],
   "source": [
    "pd.Series( accessibility ).plot( kind='kde' )"
   ]
  }
 ],
 "metadata": {
  "kernelspec": {
   "display_name": "Python 3",
   "language": "python",
   "name": "python3"
  },
  "language_info": {
   "codemirror_mode": {
    "name": "ipython",
    "version": 3
   },
   "file_extension": ".py",
   "mimetype": "text/x-python",
   "name": "python",
   "nbconvert_exporter": "python",
   "pygments_lexer": "ipython3",
   "version": "3.5.2"
  }
 },
 "nbformat": 4,
 "nbformat_minor": 2
}
