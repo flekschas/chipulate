{
 "cells": [
  {
   "cell_type": "code",
   "execution_count": 4,
   "metadata": {},
   "outputs": [
    {
     "name": "stdout",
     "output_type": "stream",
     "text": [
      "Using matplotlib backend: TkAgg\n",
      "The autoreload extension is already loaded. To reload it, use:\n",
      "  %reload_ext autoreload\n"
     ]
    }
   ],
   "source": [
    "import pandas as pd\n",
    "import matplotlib\n",
    "matplotlib.use('Agg')\n",
    "matplotlib.rcParams['svg.fonttype'] = 'none'\n",
    "from matplotlib import colors as mplcolors\n",
    "import scipy\n",
    "import numpy as np\n",
    "#import util\n",
    "import matplotlib.pyplot as plt\n",
    "import matplotlib as mpl\n",
    "from matplotlib import cm\n",
    "import chip_scratch as cs\n",
    "import MotifTable\n",
    "#import sklearn.metrics\n",
    "#import plots\n",
    "%matplotlib\n",
    "import distributions\n",
    "%load_ext autoreload\n",
    "%autoreload 2\n",
    "\n",
    "def getPaperFigureHandle( paperFigStr ):\n",
    "    if plt.fignum_exists( paperFigStr ):\n",
    "        return paperFigures[paperFigStr]\n",
    "    else:\n",
    "        return createFigure( paperFigStr )\n",
    "\n",
    "paperFigures = {}\n",
    "def createFigure( paperFigStr ):\n",
    "    global paperFigures\n",
    "    if paperFigStr == 'Figure 3':\n",
    "        paperFigures[paperFigStr] = plt.subplots( nrows=2,ncols=3, num='Figure 3' )\n",
    "    elif paperFigStr == 'Figure 4':\n",
    "        paperFigures[paperFigStr] = plt.subplots( nrows=2,ncols=3, num='Figure 4' )\n",
    "    elif paperFigStr == 'Figure 5':\n",
    "        paperFigures[paperFigStr] = plt.subplots( nrows=2,ncols=3, num='Figure 5' )        \n",
    "    elif paperFigStr == 'Figure 2':\n",
    "        paperFigures[paperFigStr] = plt.subplots( nrows=2, ncols=3, num='Figure 2' )\n",
    "    elif paperFigStr == 'Figure S2':\n",
    "        paperFigures[paperFigStr] = plt.subplots( nrows=2, ncols=3, num='Figure S2' )\n",
    "    elif paperFigStr == 'Figure MI':\n",
    "        paperFigures[paperFigStr] = plt.subplots( nrows=1, ncols=2, num='Figure MI' )\n",
    "    elif paperFigStr == 'Figure S1':\n",
    "        paperFigures[paperFigStr] = plt.subplots( nrows=4, ncols=4, num='Figure S1', sharey=True )        \n",
    "    elif paperFigStr == 'Figure 1':\n",
    "        paperFigures[paperFigStr] = plt.subplots( nrows=3, ncols=2, num='Figure 1', sharex=True )\n",
    "        \n",
    "    for ax in paperFigures[paperFigStr][1].ravel():\n",
    "        ax.spines['right'].set_visible(False)\n",
    "        ax.spines['top'].set_visible(False)\n",
    "        \n",
    "    return paperFigures[paperFigStr]\n",
    "\n",
    "yeastBg = [3.093e-01,1.907e-01,1.907e-01,3.093e-01] \n",
    "cbcolors = {'sky blue': (86/255.0,180/255.0,233/255.0)}"
   ]
  },
  {
   "cell_type": "code",
   "execution_count": 64,
   "metadata": {},
   "outputs": [],
   "source": [
    "bgEnergy = 5\n",
    "numLocations = 500\n",
    "accessibility = cs.sampleAccessibility( 2, numSamples=numLocations )\n",
    "pExt = np.random.normal( 0.5, 0.05, size=numLocations )\n",
    "numCells = 1000\n",
    "\n",
    "readsByCell = 20 + 200 * np.random.random(size=numCells)\n",
    "readsByCell = readsByCell.astype(np.uint)\n",
    "\n",
    "uniqueMat = cs.performChipSeq( chromAccessibility=accessibility, numCells=numCells, pExt=pExt, nReads=readsByCell )\n",
    "alpha, beta = cs.posteriorEstimate( uniqueMat )"
   ]
  },
  {
   "cell_type": "code",
   "execution_count": 65,
   "metadata": {},
   "outputs": [
    {
     "data": {
      "text/plain": [
       "[<matplotlib.lines.Line2D at 0x7f09b731b518>]"
      ]
     },
     "execution_count": 65,
     "metadata": {},
     "output_type": "execute_result"
    }
   ],
   "source": [
    "sortOrder = np.argsort( accessibility )\n",
    "yMax = np.zeros( numLocations )\n",
    "yMin = np.zeros( numLocations )\n",
    "yMean = np.zeros( numLocations )\n",
    "for loc in range(numLocations):\n",
    "    yMax[loc] = scipy.stats.gamma.ppf( 0.975, alpha[loc], beta[loc] )\n",
    "    yMin[loc] = scipy.stats.gamma.ppf( 0.025, alpha[loc], beta[loc] )\n",
    "    yMean[loc] = scipy.stats.gamma.mean( alpha[loc], beta[loc] )\n",
    "\n",
    "plt.plot( accessibility[sortOrder], yMin[sortOrder]  )\n",
    "plt.plot( accessibility[sortOrder], yMax[sortOrder] )"
   ]
  },
  {
   "cell_type": "code",
   "execution_count": 30,
   "metadata": {},
   "outputs": [
    {
     "data": {
      "text/plain": [
       "2.2"
      ]
     },
     "execution_count": 30,
     "metadata": {},
     "output_type": "execute_result"
    }
   ],
   "source": [
    "scipy.stats.gamma.mean( 2, 1/5 )"
   ]
  }
 ],
 "metadata": {
  "kernelspec": {
   "display_name": "Python 3",
   "language": "python",
   "name": "python3"
  },
  "language_info": {
   "codemirror_mode": {
    "name": "ipython",
    "version": 3
   },
   "file_extension": ".py",
   "mimetype": "text/x-python",
   "name": "python",
   "nbconvert_exporter": "python",
   "pygments_lexer": "ipython3",
   "version": "3.5.2"
  }
 },
 "nbformat": 4,
 "nbformat_minor": 2
}
